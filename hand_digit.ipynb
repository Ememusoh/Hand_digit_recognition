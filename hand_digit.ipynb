{
 "cells": [
  {
   "cell_type": "markdown",
   "metadata": {},
   "source": [
    "## MNIST DATA"
   ]
  },
  {
   "cell_type": "code",
   "execution_count": 1,
   "metadata": {},
   "outputs": [],
   "source": [
    "import tensorflow as tf\n",
    "from tensorflow.keras import datasets\n",
    "import matplotlib.pyplot as plt\n",
    "import numpy as np\n",
    "import pandas as pd"
   ]
  },
  {
   "cell_type": "markdown",
   "metadata": {},
   "source": [
    "## Load data using imbuilt function "
   ]
  },
  {
   "cell_type": "code",
   "execution_count": null,
   "metadata": {},
   "outputs": [],
   "source": [
    "## this is how to load the dataset using the set up by tf but normally, the data is gobrn to you in a different format\n",
    "(x_train, y_train), (x_test, y_test) = tf.keras.datasets.mnist.load_data()"
   ]
  },
  {
   "cell_type": "code",
   "execution_count": null,
   "metadata": {},
   "outputs": [],
   "source": [
    "x_train.shape\n",
    "y_train #here you would see dtype = uint8, meaning it is 8 bit data. so, (2**8 - 1 = 255) will give you the highest number of pixle. 0 was black and 255 was white"
   ]
  },
  {
   "cell_type": "code",
   "execution_count": null,
   "metadata": {},
   "outputs": [],
   "source": [
    "#this is to visualize the data and gray is black and white image\n",
    "##imshow() - imageshow()\n",
    "plt.imshow(x_train[1], cmap=\"gray\")"
   ]
  },
  {
   "cell_type": "markdown",
   "metadata": {},
   "source": [
    "##load data manually "
   ]
  },
  {
   "cell_type": "code",
   "execution_count": null,
   "metadata": {},
   "outputs": [],
   "source": [
    "\n",
    "# import os\n",
    "\n",
    "# training_basepath_url = r\"C:\\Users\\eroew\\OneDrive\\Baby Love\\ml_tutorial\\archive (2)\\trainingSet\\trainingSet\"\n",
    "\n",
    "# images_dir = os.listdir(training_basepath_url)\n",
    "# images_dir_list_paths = []\n",
    "# for num in images_dir:\n",
    "#     images_dir_list_paths.append(os.path.join(training_basepath_url, num))\n",
    "# #load images name in the folder\n",
    "# img_ls = []\n",
    "# for imgs_path in images_dir_list_paths:\n",
    "# #     # print(imgs_path)\n",
    "#     temp_ls = os.listdir(imgs_path) #list to sort\n",
    "    \n",
    "#     # print(temp_ls)\n",
    "# #     #create a lambda function to split the image name and sort for example we have img_1.jpg, so we split with_ and . then sort\n",
    "   \n",
    "        \n",
    "#     sorted_ls = sorted(list(map(lambda x:int(x.split(\"_\")[1].split(\".\")[0]), temp_ls)))\n",
    "    \n",
    "#     # print(sorted_ls)\n",
    "    \n",
    "# #     # #we now add back the img_ abbrevaition to the sorted number so we can return to the original image name\n",
    "#     original_ls_sorted = list(map(lambda x: \"img_\" + str(x) + \".jpg\", sorted_ls))\n",
    "    \n",
    "    \n",
    "#     # print(original_ls_sorted)\n",
    "#     original_ls_sorted_img_paths_added = list(map(lambda x:os.path.join(imgs_path, x), original_ls_sorted))\n",
    "    \n",
    "#     img_ls.append(original_ls_sorted_img_paths_added)\n",
    "#     # print(original_ls_sorted_img_paths_added)\n",
    "#     # break\n",
    "    \n",
    "\n",
    "# # print(images_dir_list_paths)\n",
    "\n",
    "# import PIL\n",
    "# import PIL.Image\n",
    "# import numpy as np\n",
    "# X = []\n",
    "# Y=[]\n",
    "# # count = 0\n",
    "# for label, imgs_path in enumerate(img_ls):\n",
    "    \n",
    "#     for img in imgs_path:\n",
    "#         img_load = np.asarray(PIL.Image.open(img))\n",
    "#         X.append(img_load)\n",
    "#         Y.append(str(label))\n",
    "#     # count = count + 1"
   ]
  },
  {
   "cell_type": "markdown",
   "metadata": {},
   "source": [
    "#### aproach 1, using the image directly as a feature"
   ]
  },
  {
   "cell_type": "code",
   "execution_count": 6,
   "metadata": {},
   "outputs": [],
   "source": [
    "x_train_reshaped = x_train.reshape(-1, 28*28)\n",
    "x_test_reshaped = x_test.reshape(-1, 28*28)\n",
    "x_train_reshaped = x_train_reshaped/255\n",
    "x_test_reshaped = x_test_reshaped/255"
   ]
  },
  {
   "cell_type": "code",
   "execution_count": null,
   "metadata": {},
   "outputs": [],
   "source": []
  },
  {
   "cell_type": "code",
   "execution_count": null,
   "metadata": {},
   "outputs": [],
   "source": [
    "x_test_reshaped.shape\n",
    "x_train_reshaped[0]\n",
    "x_train_reshaped.max()\n",
    "x_train_reshaped.min()"
   ]
  },
  {
   "cell_type": "markdown",
   "metadata": {},
   "source": [
    "### dimensionality Reduction"
   ]
  },
  {
   "cell_type": "code",
   "execution_count": null,
   "metadata": {},
   "outputs": [],
   "source": [
    "from sklearn.decomposition import PCA  ##principal component analysis\n",
    "pca = PCA(n_components=10)#10 graphs are drown by the model to chose the better variance\n",
    "pca.fit(x_test_reshaped, y_train) #train model\n",
    "x_train_reshaped_reduced_dimension = pca.transform(x_train_reshaped)\n",
    "x_test_reshaped_reduced_imension = pca.transform(x_test_reshaped)\n",
    "\n",
    "print(x_train_reshaped_reduced_dimension)\n",
    "\n",
    "x_train_reshaped_reduced_dimension[0]\n",
    "x_train_reshaped_reduced_dimension[59999]"
   ]
  },
  {
   "cell_type": "code",
   "execution_count": 9,
   "metadata": {},
   "outputs": [],
   "source": [
    "#avoid retyping _ i actually run the model at first with reducing dimensions\n",
    "x_train_reshaped =x_train_reshaped_reduced_dimension\n",
    "x_test_reshaped = x_test_reshaped_reduced_imension"
   ]
  },
  {
   "cell_type": "markdown",
   "metadata": {},
   "source": [
    "## model selection"
   ]
  },
  {
   "cell_type": "code",
   "execution_count": null,
   "metadata": {},
   "outputs": [],
   "source": [
    "from sklearn.ensemble import RandomForestClassifier\n",
    "from sklearn.metrics import precision_score, confusion_matrix, ConfusionMatrixDisplay\n",
    "\n",
    "\n",
    "rfc = RandomForestClassifier()\n",
    "rfc.fit(x_train_reshaped, y_train)\n",
    "\n",
    "y_pred = rfc.predict(x_test_reshaped)\n",
    "\n",
    "train_score = rfc.score(x_train_reshaped, y_train)\n",
    "print(train_score)\n",
    "test_score = rfc.score(x_test_reshaped, y_test)\n",
    "print(test_score)"
   ]
  },
  {
   "cell_type": "code",
   "execution_count": null,
   "metadata": {},
   "outputs": [],
   "source": [
    "len(y_pred)"
   ]
  },
  {
   "cell_type": "code",
   "execution_count": null,
   "metadata": {},
   "outputs": [],
   "source": [
    "len(y_test)"
   ]
  },
  {
   "cell_type": "code",
   "execution_count": null,
   "metadata": {},
   "outputs": [],
   "source": [
    "## mode evaluation\n",
    "\n",
    "pre_score = round(precision_score(y_test, y_pred, average = \"weighted\"),3)\n",
    "print(pre_score)"
   ]
  },
  {
   "cell_type": "code",
   "execution_count": null,
   "metadata": {},
   "outputs": [],
   "source": [
    "cm = confusion_matrix(y_test, y_pred, labels = rfc.classes_)\n",
    "disp = ConfusionMatrixDisplay(confusion_matrix = cm, display_labels = rfc.classes_)\n",
    "disp.plot()\n",
    "plt.show()"
   ]
  },
  {
   "cell_type": "code",
   "execution_count": null,
   "metadata": {},
   "outputs": [],
   "source": [
    "### let us test our model by bringing an image for it to predict\n",
    "plt.imshow(x_test[0], cmap = \"gray\")\n",
    "plt.title(str(y_pred)[0])\n",
    "plt.axis(\"off\") #better visualization\n"
   ]
  },
  {
   "cell_type": "code",
   "execution_count": null,
   "metadata": {},
   "outputs": [],
   "source": [
    "### saving the model\n",
    "import joblib\n",
    "joblib.dump(rfc, \"RF-hand_digit-predictor.emem\")"
   ]
  },
  {
   "cell_type": "code",
   "execution_count": null,
   "metadata": {},
   "outputs": [],
   "source": [
    "## load model\n",
    "trained_model = joblib.load(\"RF-hand_digit-predictor.emem\")"
   ]
  },
  {
   "cell_type": "code",
   "execution_count": 46,
   "metadata": {},
   "outputs": [
    {
     "data": {
      "text/plain": [
       "(28, 28)"
      ]
     },
     "execution_count": 46,
     "metadata": {},
     "output_type": "execute_result"
    },
    {
     "data": {
      "image/png": "[encoded data removed]",
      "text/plain": [
       "<Figure size 640x480 with 1 Axes>"
      ]
     },
     "metadata": {},
     "output_type": "display_data"
    }
   ],
   "source": [
    "####loading test image\n",
    "\n",
    "import PIL\n",
    "import PIL.Image as IMG\n",
    "import numpy as np\n",
    "\n",
    "test_img = IMG.open(\"test.jpg\")\n",
    "test_image = np.asarray(test_img)\n",
    "plt.imshow(test_image, cmap = \"gray\")\n",
    "test_image.shape"
   ]
  },
  {
   "cell_type": "code",
   "execution_count": null,
   "metadata": {},
   "outputs": [
    {
     "data": {
      "text/plain": [
       "(1, 10)"
      ]
     },
     "execution_count": 51,
     "metadata": {},
     "output_type": "execute_result"
    }
   ],
   "source": [
    "## we have to flatten and the reduce its dimension just like we did for test and train dataset \n",
    "\n",
    "test_image_flatten = test_image.reshape(1,-1) ## 28*28 = 784\n",
    "test_image_flatten = test_image_flatten/255.0\n",
    "test_image_flatten = pca.transform(test_image_flatten)\n",
    "test_image_flatten.shape\n"
   ]
  },
  {
   "cell_type": "code",
   "execution_count": 52,
   "metadata": {},
   "outputs": [],
   "source": [
    "predict = trained_model.predict(test_image_flatten)\n"
   ]
  },
  {
   "cell_type": "code",
   "execution_count": 53,
   "metadata": {},
   "outputs": [
    {
     "data": {
      "text/plain": [
       "(-0.5, 27.5, 27.5, -0.5)"
      ]
     },
     "execution_count": 53,
     "metadata": {},
     "output_type": "execute_result"
    },
    {
     "data": {
      "image/png": "[encoded data removed]",
      "text/plain": [
       "<Figure size 640x480 with 1 Axes>"
      ]
     },
     "metadata": {},
     "output_type": "display_data"
    }
   ],
   "source": [
    "plt.imshow(test_image, cmap = \"gray\")\n",
    "plt.title(str(predict[0]))\n",
    "plt.axis(\"off\")"
   ]
  }
 ],
 "metadata": {
  "kernelspec": {
   "display_name": "ml_env",
   "language": "python",
   "name": "python3"
  },
  "language_info": {
   "codemirror_mode": {
    "name": "ipython",
    "version": 3
   },
   "file_extension": ".py",
   "mimetype": "text/x-python",
   "name": "python",
   "nbconvert_exporter": "python",
   "pygments_lexer": "ipython3",
   "version": "3.10.15"
  }
 },
 "nbformat": 4,
 "nbformat_minor": 2
}
