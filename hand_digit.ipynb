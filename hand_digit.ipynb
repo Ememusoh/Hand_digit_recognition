{
 "cells": [
  {
   "cell_type": "markdown",
   "metadata": {},
   "source": [
    "## MNIST DATA"
   ]
  },
  {
   "cell_type": "code",
   "execution_count": 5,
   "metadata": {},
   "outputs": [
    {
     "ename": "ModuleNotFoundError",
     "evalue": "No module named 'tensorflow'",
     "output_type": "error",
     "traceback": [
      "\u001b[1;31m---------------------------------------------------------------------------\u001b[0m",
      "\u001b[1;31mModuleNotFoundError\u001b[0m                       Traceback (most recent call last)",
      "Cell \u001b[1;32mIn[5], line 1\u001b[0m\n\u001b[1;32m----> 1\u001b[0m \u001b[38;5;28;01mimport\u001b[39;00m \u001b[38;5;21;01mtensorflow\u001b[39;00m \u001b[38;5;28;01mas\u001b[39;00m \u001b[38;5;21;01mtf\u001b[39;00m\n\u001b[0;32m      2\u001b[0m \u001b[38;5;28;01mfrom\u001b[39;00m \u001b[38;5;21;01mtensorflow\u001b[39;00m\u001b[38;5;21;01m.\u001b[39;00m\u001b[38;5;21;01mkeras\u001b[39;00m \u001b[38;5;28;01mimport\u001b[39;00m datasets\n\u001b[0;32m      3\u001b[0m \u001b[38;5;28;01mimport\u001b[39;00m \u001b[38;5;21;01mmatplotlib\u001b[39;00m\u001b[38;5;21;01m.\u001b[39;00m\u001b[38;5;21;01mpyplot\u001b[39;00m \u001b[38;5;28;01mas\u001b[39;00m \u001b[38;5;21;01mplt\u001b[39;00m\n",
      "\u001b[1;31mModuleNotFoundError\u001b[0m: No module named 'tensorflow'"
     ]
    }
   ],
   "source": [
    "import tensorflow as tf\n",
    "from tensorflow.keras import datasets\n",
    "import matplotlib.pyplot as plt"
   ]
  },
  {
   "cell_type": "markdown",
   "metadata": {},
   "source": [
    "## Load data using imbuilt function "
   ]
  },
  {
   "cell_type": "code",
   "execution_count": null,
   "metadata": {},
   "outputs": [],
   "source": [
    "## this is how to load the dataset using the set up by tf but normally, the data is gobrn to you in a different format\n",
    "(x_train, y_train), (x_test, y_test) = tf.keras.datasets.mnist.load_data()"
   ]
  },
  {
   "cell_type": "code",
   "execution_count": null,
   "metadata": {},
   "outputs": [],
   "source": [
    "x_train.shape\n",
    "y_train #here you would see dtype = uint8, meaning it is 8 bit data. so, (2**8 - 1 = 255) will give you the highest number of pixle. 0 was black and 255 was white"
   ]
  },
  {
   "cell_type": "code",
   "execution_count": null,
   "metadata": {},
   "outputs": [],
   "source": [
    "#this is to visualize the data and gray is black and white image\n",
    "##imshow() - imageshow()\n",
    "plt.imshow(x_train[1], cmap=\"gray\")"
   ]
  },
  {
   "cell_type": "markdown",
   "metadata": {},
   "source": [
    "#### aproach 1, using the image directly as a feature"
   ]
  },
  {
   "cell_type": "code",
   "execution_count": null,
   "metadata": {},
   "outputs": [],
   "source": [
    "x_train_reshaped = x_train.reshape(-1, 28*28)\n",
    "x_test_reshaped = x_test.reshape(-1, 28*28)\n",
    "x_train_reshaped = x_train_reshaped/255\n",
    "x_test_reshaped = x_test_reshaped/255"
   ]
  },
  {
   "cell_type": "code",
   "execution_count": null,
   "metadata": {},
   "outputs": [],
   "source": [
    "x_test_reshaped.shape\n",
    "x_train_reshaped[0]\n",
    "x_train_reshaped.max()\n",
    "x_train_reshaped.min()"
   ]
  },
  {
   "cell_type": "markdown",
   "metadata": {},
   "source": [
    "### dimensionality Reduction"
   ]
  },
  {
   "cell_type": "code",
   "execution_count": null,
   "metadata": {},
   "outputs": [],
   "source": [
    "from sklearn.decomposition import PCA\n",
    "pca = PCA(n_components=10)#10 graphs are drown by the model to chose the better variance\n",
    "pca.fit(x_test_reshaped, y_train) #train model\n",
    "x_train_reshaped_reduced_dimension = pca.transform(x_train_reshaped)\n",
    "x_test_reshaped_reduced_imension = pca.transform(x_test_reshaped)\n",
    "\n",
    "print(x_train_reshaped_reduced_dimension)\n",
    "\n",
    "x_train_reshaped_reduced_dimension[0]\n",
    "x_train_reshaped_reduced_dimension[59999]"
   ]
  },
  {
   "cell_type": "code",
   "execution_count": null,
   "metadata": {},
   "outputs": [],
   "source": [
    "#avoid retyping _ i actually run the model at first with reducing dimensions\n",
    "x_train_reshaped =x_train_reshaped_reduced_dimension\n",
    "x_test_reshaped = x_test_reshaped_reduced_imension"
   ]
  },
  {
   "cell_type": "markdown",
   "metadata": {},
   "source": [
    "## model selection"
   ]
  },
  {
   "cell_type": "code",
   "execution_count": null,
   "metadata": {},
   "outputs": [],
   "source": [
    "from sklearn.ensemble import RandomForestClassifier\n",
    "from sklearn.metric import precision_score, confusion_matrix, ConfusionMatrixDisply\n",
    "\n",
    "\n",
    "rfc = RandomForestClassifier()\n",
    "rfc.fit(x_train_reshaped, y_train)\n",
    "\n",
    "y_pred = rfc.predict(x_train_reshaped, y_train)\n",
    "\n",
    "train_score = rfc.score(x_train_reshaped, y_train)\n",
    "print(train_score)\n",
    "test_score = rfc.score(x_test_reshaped, y_test)\n",
    "\n",
    "\n",
    "\n"
   ]
  },
  {
   "cell_type": "code",
   "execution_count": null,
   "metadata": {},
   "outputs": [],
   "source": [
    "## mode evaluation\n",
    "\n",
    "pre_score = round(precision_score(y_pred, y_test, average = \"weighted\"),3)\n",
    "print(pre_score)"
   ]
  },
  {
   "cell_type": "code",
   "execution_count": null,
   "metadata": {},
   "outputs": [],
   "source": [
    "cm = confusion_matrix(y_test, y_pred, labels = rfc.classes_)\n",
    "disp= ConfusionMatrixDisply(confusion_matrix = cm, display_labels = rfc.classes_)\n",
    "disp.plot()\n",
    "plt.show()"
   ]
  },
  {
   "cell_type": "code",
   "execution_count": null,
   "metadata": {},
   "outputs": [],
   "source": [
    "### let us test our model by bringing an image for it to predict\n",
    "plt.imshow(x_test[1670], cmap = \"gray\")\n",
    "plt.title(str(y_pred)[1670])\n",
    "plt.axis(\"off\") #better visualization\n"
   ]
  },
  {
   "cell_type": "code",
   "execution_count": null,
   "metadata": {},
   "outputs": [],
   "source": [
    "### saving the model\n",
    "\n",
    "\n",
    "import joblib\n",
    "joblib.dump(rfc, \"RF-hand_digit-predictor.emem\")"
   ]
  },
  {
   "cell_type": "code",
   "execution_count": null,
   "metadata": {},
   "outputs": [],
   "source": [
    "## load model\n",
    "\n",
    "trained-model = joblib.load(\"RF-hand_digit-predictor.emem\")"
   ]
  },
  {
   "cell_type": "code",
   "execution_count": null,
   "metadata": {},
   "outputs": [],
   "source": [
    "####loading test image\n",
    "\n",
    "import PIL\n",
    "import PIL.Image as IMG\n",
    "import numpy as np\n",
    "\n",
    "test_img = IMG.open"
   ]
  }
 ],
 "metadata": {
  "kernelspec": {
   "display_name": "ml_env",
   "language": "python",
   "name": "python3"
  },
  "language_info": {
   "codemirror_mode": {
    "name": "ipython",
    "version": 3
   },
   "file_extension": ".py",
   "mimetype": "text/x-python",
   "name": "python",
   "nbconvert_exporter": "python",
   "pygments_lexer": "ipython3",
   "version": "3.10.15"
  }
 },
 "nbformat": 4,
 "nbformat_minor": 2
}
